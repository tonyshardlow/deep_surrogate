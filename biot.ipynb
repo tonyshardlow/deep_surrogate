{
 "cells": [
  {
   "cell_type": "markdown",
   "metadata": {
    "id": "N0CtN1pIY_ZZ"
   },
   "source": [
    "\n",
    "<br>\n",
    "Train a deep surrogate model to approximate the parametric solution of the Fin equation <br>\n",
    "u''(x) + u'(x)/x - Bi(x)u(x) = 0 <br>\n",
    "over a domain where Bi(x) is represented by a polynomial of degree up to 15 with <br>\n",
    "coefficients lying within a suitable domain<br>\n"
   ]
  },
  {
   "cell_type": "code",
   "execution_count": 1,
   "metadata": {
    "colab": {
     "base_uri": "https://localhost:8080/"
    },
    "executionInfo": {
     "elapsed": 2388,
     "status": "ok",
     "timestamp": 1618663803975,
     "user": {
      "displayName": "Tony Shardlow",
      "photoUrl": "https://lh3.googleusercontent.com/a-/AOh14GiXlpH_lGhA-QuJ4PgAcl2Iyf43SpomCV5aq79J0QrTr786Av4pUxsMMw_Fgk1FK7NFntVjs6yNzwDdVERTQdsgyzjU3jJllKdrXHDX6xNbdnsFQXtcJiBFJsccsurTtRzHMSjBGa96-Rs7DXWJwrMJXP5bqGMtuBOmSXTZO9IgTH7RrORYeImd8qL_s5MWCeg3VDweyXcSiVT8xtfY6Ra1YwcJW-GuKNRYQN2Abl3281oVS9GYvOOYRUoSkHM1ujDzQjiSpn20GFMup_P9hOG04arDimDUgdCqBo27c74cD3yJsW7zE6h4LHIi7tUYiELn_8drVYwn_LIPEZG4CQ-QhV1QItUVB0ght9EVtafyXDdR4P033SZOBgfyYTXhLQfu2HN4giffn0laW9ETqfeM_A0tJj0GrD71yq0XSHUzXmAO7zkXYNxTEhJpDRB6Zf-gdoYqs4k7_xoCqn4VXbp_WihdEU4dLWAm-yDSxev3ZiBDuPZgF6cUpkZxkk-m3qLC_mdq5FiMeiPBZoRVsNcJ7Q8Rljd4gmZFAMSqMt2WIxE80P7gYVg_bmVzXgRt_0l_AoaPUAjhBthY4YmMbuDzrmTuANJ1cKSqqDCwLWJruhvdmWT0jtPWjBS6EN7wOGiUbAUffLAVyTTnRkrOMB8GLuNvHqkEAt2guPm4q-qfI5UcSv6yNJOhkwQouhLZgwOrmb7GFQZHXgQxHoDtUR9wFfxMQbHMH3YJW63kZGWsPhvfMRbNKfmqp7U7V7bNtw=s64",
      "userId": "01347584962082294341"
     },
     "user_tz": -60
    },
    "id": "ZYpvYPGTZOrF",
    "outputId": "b21dc579-5c19-4dc3-c537-bbfbcfa89ffd"
   },
   "outputs": [
    {
     "name": "stdout",
     "output_type": "stream",
     "text": [
      "TensorFlow 1.x selected.\n",
      "1.15.2\n"
     ]
    }
   ],
   "source": [
    "%tensorflow_version 1.x\n",
    "import tensorflow\n",
    "print(tensorflow.__version__)\n",
    "import tensorflow as tf"
   ]
  },
  {
   "cell_type": "code",
   "execution_count": 4,
   "metadata": {
    "executionInfo": {
     "elapsed": 2345,
     "status": "ok",
     "timestamp": 1618663803979,
     "user": {
      "displayName": "Tony Shardlow",
      "photoUrl": "https://lh3.googleusercontent.com/a-/AOh14GiXlpH_lGhA-QuJ4PgAcl2Iyf43SpomCV5aq79J0QrTr786Av4pUxsMMw_Fgk1FK7NFntVjs6yNzwDdVERTQdsgyzjU3jJllKdrXHDX6xNbdnsFQXtcJiBFJsccsurTtRzHMSjBGa96-Rs7DXWJwrMJXP5bqGMtuBOmSXTZO9IgTH7RrORYeImd8qL_s5MWCeg3VDweyXcSiVT8xtfY6Ra1YwcJW-GuKNRYQN2Abl3281oVS9GYvOOYRUoSkHM1ujDzQjiSpn20GFMup_P9hOG04arDimDUgdCqBo27c74cD3yJsW7zE6h4LHIi7tUYiELn_8drVYwn_LIPEZG4CQ-QhV1QItUVB0ght9EVtafyXDdR4P033SZOBgfyYTXhLQfu2HN4giffn0laW9ETqfeM_A0tJj0GrD71yq0XSHUzXmAO7zkXYNxTEhJpDRB6Zf-gdoYqs4k7_xoCqn4VXbp_WihdEU4dLWAm-yDSxev3ZiBDuPZgF6cUpkZxkk-m3qLC_mdq5FiMeiPBZoRVsNcJ7Q8Rljd4gmZFAMSqMt2WIxE80P7gYVg_bmVzXgRt_0l_AoaPUAjhBthY4YmMbuDzrmTuANJ1cKSqqDCwLWJruhvdmWT0jtPWjBS6EN7wOGiUbAUffLAVyTTnRkrOMB8GLuNvHqkEAt2guPm4q-qfI5UcSv6yNJOhkwQouhLZgwOrmb7GFQZHXgQxHoDtUR9wFfxMQbHMH3YJW63kZGWsPhvfMRbNKfmqp7U7V7bNtw=s64",
      "userId": "01347584962082294341"
     },
     "user_tz": -60
    },
    "id": "nuKH4nXrY_Zh"
   },
   "outputs": [],
   "source": [
    "import numpy as np\n",
    "from matplotlib import pyplot as plt\n",
    "import sys\n",
    "import importlib"
   ]
  },
  {
   "cell_type": "code",
   "execution_count": null,
   "metadata": {},
   "outputs": [],
   "source": [
    "from httpimport import github_repo\n",
    "with github_repo('tonyshardlow', 'deep_surrogate', 'dense_net'):\n",
    "    import dense_net\n",
    "from dense_net import *"
   ]
  },
  {
   "cell_type": "code",
   "execution_count": 5,
   "metadata": {
    "executionInfo": {
     "elapsed": 2334,
     "status": "ok",
     "timestamp": 1618663803982,
     "user": {
      "displayName": "Tony Shardlow",
      "photoUrl": "https://lh3.googleusercontent.com/a-/AOh14GiXlpH_lGhA-QuJ4PgAcl2Iyf43SpomCV5aq79J0QrTr786Av4pUxsMMw_Fgk1FK7NFntVjs6yNzwDdVERTQdsgyzjU3jJllKdrXHDX6xNbdnsFQXtcJiBFJsccsurTtRzHMSjBGa96-Rs7DXWJwrMJXP5bqGMtuBOmSXTZO9IgTH7RrORYeImd8qL_s5MWCeg3VDweyXcSiVT8xtfY6Ra1YwcJW-GuKNRYQN2Abl3281oVS9GYvOOYRUoSkHM1ujDzQjiSpn20GFMup_P9hOG04arDimDUgdCqBo27c74cD3yJsW7zE6h4LHIi7tUYiELn_8drVYwn_LIPEZG4CQ-QhV1QItUVB0ght9EVtafyXDdR4P033SZOBgfyYTXhLQfu2HN4giffn0laW9ETqfeM_A0tJj0GrD71yq0XSHUzXmAO7zkXYNxTEhJpDRB6Zf-gdoYqs4k7_xoCqn4VXbp_WihdEU4dLWAm-yDSxev3ZiBDuPZgF6cUpkZxkk-m3qLC_mdq5FiMeiPBZoRVsNcJ7Q8Rljd4gmZFAMSqMt2WIxE80P7gYVg_bmVzXgRt_0l_AoaPUAjhBthY4YmMbuDzrmTuANJ1cKSqqDCwLWJruhvdmWT0jtPWjBS6EN7wOGiUbAUffLAVyTTnRkrOMB8GLuNvHqkEAt2guPm4q-qfI5UcSv6yNJOhkwQouhLZgwOrmb7GFQZHXgQxHoDtUR9wFfxMQbHMH3YJW63kZGWsPhvfMRbNKfmqp7U7V7bNtw=s64",
      "userId": "01347584962082294341"
     },
     "user_tz": -60
    },
    "id": "PF58a_j0Y_Zl"
   },
   "outputs": [],
   "source": [
    "np.random.seed(0)\n",
    "tf.set_random_seed(0)"
   ]
  },
  {
   "cell_type": "code",
   "execution_count": 6,
   "metadata": {
    "executionInfo": {
     "elapsed": 2327,
     "status": "ok",
     "timestamp": 1618663803982,
     "user": {
      "displayName": "Tony Shardlow",
      "photoUrl": "https://lh3.googleusercontent.com/a-/AOh14GiXlpH_lGhA-QuJ4PgAcl2Iyf43SpomCV5aq79J0QrTr786Av4pUxsMMw_Fgk1FK7NFntVjs6yNzwDdVERTQdsgyzjU3jJllKdrXHDX6xNbdnsFQXtcJiBFJsccsurTtRzHMSjBGa96-Rs7DXWJwrMJXP5bqGMtuBOmSXTZO9IgTH7RrORYeImd8qL_s5MWCeg3VDweyXcSiVT8xtfY6Ra1YwcJW-GuKNRYQN2Abl3281oVS9GYvOOYRUoSkHM1ujDzQjiSpn20GFMup_P9hOG04arDimDUgdCqBo27c74cD3yJsW7zE6h4LHIi7tUYiELn_8drVYwn_LIPEZG4CQ-QhV1QItUVB0ght9EVtafyXDdR4P033SZOBgfyYTXhLQfu2HN4giffn0laW9ETqfeM_A0tJj0GrD71yq0XSHUzXmAO7zkXYNxTEhJpDRB6Zf-gdoYqs4k7_xoCqn4VXbp_WihdEU4dLWAm-yDSxev3ZiBDuPZgF6cUpkZxkk-m3qLC_mdq5FiMeiPBZoRVsNcJ7Q8Rljd4gmZFAMSqMt2WIxE80P7gYVg_bmVzXgRt_0l_AoaPUAjhBthY4YmMbuDzrmTuANJ1cKSqqDCwLWJruhvdmWT0jtPWjBS6EN7wOGiUbAUffLAVyTTnRkrOMB8GLuNvHqkEAt2guPm4q-qfI5UcSv6yNJOhkwQouhLZgwOrmb7GFQZHXgQxHoDtUR9wFfxMQbHMH3YJW63kZGWsPhvfMRbNKfmqp7U7V7bNtw=s64",
      "userId": "01347584962082294341"
     },
     "user_tz": -60
    },
    "id": "Vu4gyJThY_Zo"
   },
   "outputs": [],
   "source": [
    "def train(iterations,learning_rate): # main training loop\n",
    "    for i in np.arange(iterations):\n",
    "        xl = sample_xl(xlim,sizel)\n",
    "        xr = sample_xr(xlim,sizer)\n",
    "        x = sample_x(xlim,sizex)\n",
    "        coeff, coeffl, coeffr = sample_coeff(coefflim,sizex,sizel)\n",
    "        tf_dict = {lr:learning_rate , xl_pl:xl , x_pl:x , xr_pl:xr , \\\n",
    "                   coeffl_pl:coeffl, coeff_pl:coeff, coeffr_pl:coeffr}\n",
    "        sess.run(train_op,tf_dict)\n",
    "        if i % 10 ==0:\n",
    "            loss_eval = sess.run(printout,tf_dict)\n",
    "            print('iteration: ',i, '.  learning rate: ', learning_rate,\\\n",
    "                          '.  loss: ', loss_eval)\n",
    " \n",
    "def sample_x(xlim,sizex):  #function to sample from domain\n",
    "    x = np.random.uniform(xlim[0],xlim[1],size=[sizex,1])\n",
    "    return x"
   ]
  },
  {
   "cell_type": "code",
   "execution_count": 7,
   "metadata": {
    "executionInfo": {
     "elapsed": 2321,
     "status": "ok",
     "timestamp": 1618663803983,
     "user": {
      "displayName": "Tony Shardlow",
      "photoUrl": "https://lh3.googleusercontent.com/a-/AOh14GiXlpH_lGhA-QuJ4PgAcl2Iyf43SpomCV5aq79J0QrTr786Av4pUxsMMw_Fgk1FK7NFntVjs6yNzwDdVERTQdsgyzjU3jJllKdrXHDX6xNbdnsFQXtcJiBFJsccsurTtRzHMSjBGa96-Rs7DXWJwrMJXP5bqGMtuBOmSXTZO9IgTH7RrORYeImd8qL_s5MWCeg3VDweyXcSiVT8xtfY6Ra1YwcJW-GuKNRYQN2Abl3281oVS9GYvOOYRUoSkHM1ujDzQjiSpn20GFMup_P9hOG04arDimDUgdCqBo27c74cD3yJsW7zE6h4LHIi7tUYiELn_8drVYwn_LIPEZG4CQ-QhV1QItUVB0ght9EVtafyXDdR4P033SZOBgfyYTXhLQfu2HN4giffn0laW9ETqfeM_A0tJj0GrD71yq0XSHUzXmAO7zkXYNxTEhJpDRB6Zf-gdoYqs4k7_xoCqn4VXbp_WihdEU4dLWAm-yDSxev3ZiBDuPZgF6cUpkZxkk-m3qLC_mdq5FiMeiPBZoRVsNcJ7Q8Rljd4gmZFAMSqMt2WIxE80P7gYVg_bmVzXgRt_0l_AoaPUAjhBthY4YmMbuDzrmTuANJ1cKSqqDCwLWJruhvdmWT0jtPWjBS6EN7wOGiUbAUffLAVyTTnRkrOMB8GLuNvHqkEAt2guPm4q-qfI5UcSv6yNJOhkwQouhLZgwOrmb7GFQZHXgQxHoDtUR9wFfxMQbHMH3YJW63kZGWsPhvfMRbNKfmqp7U7V7bNtw=s64",
      "userId": "01347584962082294341"
     },
     "user_tz": -60
    },
    "id": "HF5ewntfY_Zq"
   },
   "outputs": [],
   "source": [
    "def sample_xl(xlim,sizel): #function to sample from left boundary\n",
    "    xl = np.ones([sizel,1])*xlim[0]\n",
    "    return xl"
   ]
  },
  {
   "cell_type": "code",
   "execution_count": 8,
   "metadata": {
    "executionInfo": {
     "elapsed": 2314,
     "status": "ok",
     "timestamp": 1618663803984,
     "user": {
      "displayName": "Tony Shardlow",
      "photoUrl": "https://lh3.googleusercontent.com/a-/AOh14GiXlpH_lGhA-QuJ4PgAcl2Iyf43SpomCV5aq79J0QrTr786Av4pUxsMMw_Fgk1FK7NFntVjs6yNzwDdVERTQdsgyzjU3jJllKdrXHDX6xNbdnsFQXtcJiBFJsccsurTtRzHMSjBGa96-Rs7DXWJwrMJXP5bqGMtuBOmSXTZO9IgTH7RrORYeImd8qL_s5MWCeg3VDweyXcSiVT8xtfY6Ra1YwcJW-GuKNRYQN2Abl3281oVS9GYvOOYRUoSkHM1ujDzQjiSpn20GFMup_P9hOG04arDimDUgdCqBo27c74cD3yJsW7zE6h4LHIi7tUYiELn_8drVYwn_LIPEZG4CQ-QhV1QItUVB0ght9EVtafyXDdR4P033SZOBgfyYTXhLQfu2HN4giffn0laW9ETqfeM_A0tJj0GrD71yq0XSHUzXmAO7zkXYNxTEhJpDRB6Zf-gdoYqs4k7_xoCqn4VXbp_WihdEU4dLWAm-yDSxev3ZiBDuPZgF6cUpkZxkk-m3qLC_mdq5FiMeiPBZoRVsNcJ7Q8Rljd4gmZFAMSqMt2WIxE80P7gYVg_bmVzXgRt_0l_AoaPUAjhBthY4YmMbuDzrmTuANJ1cKSqqDCwLWJruhvdmWT0jtPWjBS6EN7wOGiUbAUffLAVyTTnRkrOMB8GLuNvHqkEAt2guPm4q-qfI5UcSv6yNJOhkwQouhLZgwOrmb7GFQZHXgQxHoDtUR9wFfxMQbHMH3YJW63kZGWsPhvfMRbNKfmqp7U7V7bNtw=s64",
      "userId": "01347584962082294341"
     },
     "user_tz": -60
    },
    "id": "wteKhxACY_Zs"
   },
   "outputs": [],
   "source": [
    "def sample_xr(xlim,sizer): #function to sample from right boundary\n",
    "    xr = np.ones([sizer,1])*xlim[1]\n",
    "    return xr"
   ]
  },
  {
   "cell_type": "code",
   "execution_count": 9,
   "metadata": {
    "executionInfo": {
     "elapsed": 2305,
     "status": "ok",
     "timestamp": 1618663803985,
     "user": {
      "displayName": "Tony Shardlow",
      "photoUrl": "https://lh3.googleusercontent.com/a-/AOh14GiXlpH_lGhA-QuJ4PgAcl2Iyf43SpomCV5aq79J0QrTr786Av4pUxsMMw_Fgk1FK7NFntVjs6yNzwDdVERTQdsgyzjU3jJllKdrXHDX6xNbdnsFQXtcJiBFJsccsurTtRzHMSjBGa96-Rs7DXWJwrMJXP5bqGMtuBOmSXTZO9IgTH7RrORYeImd8qL_s5MWCeg3VDweyXcSiVT8xtfY6Ra1YwcJW-GuKNRYQN2Abl3281oVS9GYvOOYRUoSkHM1ujDzQjiSpn20GFMup_P9hOG04arDimDUgdCqBo27c74cD3yJsW7zE6h4LHIi7tUYiELn_8drVYwn_LIPEZG4CQ-QhV1QItUVB0ght9EVtafyXDdR4P033SZOBgfyYTXhLQfu2HN4giffn0laW9ETqfeM_A0tJj0GrD71yq0XSHUzXmAO7zkXYNxTEhJpDRB6Zf-gdoYqs4k7_xoCqn4VXbp_WihdEU4dLWAm-yDSxev3ZiBDuPZgF6cUpkZxkk-m3qLC_mdq5FiMeiPBZoRVsNcJ7Q8Rljd4gmZFAMSqMt2WIxE80P7gYVg_bmVzXgRt_0l_AoaPUAjhBthY4YmMbuDzrmTuANJ1cKSqqDCwLWJruhvdmWT0jtPWjBS6EN7wOGiUbAUffLAVyTTnRkrOMB8GLuNvHqkEAt2guPm4q-qfI5UcSv6yNJOhkwQouhLZgwOrmb7GFQZHXgQxHoDtUR9wFfxMQbHMH3YJW63kZGWsPhvfMRbNKfmqp7U7V7bNtw=s64",
      "userId": "01347584962082294341"
     },
     "user_tz": -60
    },
    "id": "rRX3iJuQY_Zu"
   },
   "outputs": [],
   "source": [
    "def sample_coeff(coefflim,sizex,sizel):  #function to sample from parameter space\n",
    "    coeff  = np.random.uniform(coefflim[0],coefflim[1],size=[sizex,n])/scale\n",
    "    coeffl = coeff[:sizel,:]\n",
    "    coeffr = coeff[:sizer,:]\n",
    "    return coeff, coeffl, coeffr"
   ]
  },
  {
   "cell_type": "code",
   "execution_count": 10,
   "metadata": {
    "executionInfo": {
     "elapsed": 2299,
     "status": "ok",
     "timestamp": 1618663803987,
     "user": {
      "displayName": "Tony Shardlow",
      "photoUrl": "https://lh3.googleusercontent.com/a-/AOh14GiXlpH_lGhA-QuJ4PgAcl2Iyf43SpomCV5aq79J0QrTr786Av4pUxsMMw_Fgk1FK7NFntVjs6yNzwDdVERTQdsgyzjU3jJllKdrXHDX6xNbdnsFQXtcJiBFJsccsurTtRzHMSjBGa96-Rs7DXWJwrMJXP5bqGMtuBOmSXTZO9IgTH7RrORYeImd8qL_s5MWCeg3VDweyXcSiVT8xtfY6Ra1YwcJW-GuKNRYQN2Abl3281oVS9GYvOOYRUoSkHM1ujDzQjiSpn20GFMup_P9hOG04arDimDUgdCqBo27c74cD3yJsW7zE6h4LHIi7tUYiELn_8drVYwn_LIPEZG4CQ-QhV1QItUVB0ght9EVtafyXDdR4P033SZOBgfyYTXhLQfu2HN4giffn0laW9ETqfeM_A0tJj0GrD71yq0XSHUzXmAO7zkXYNxTEhJpDRB6Zf-gdoYqs4k7_xoCqn4VXbp_WihdEU4dLWAm-yDSxev3ZiBDuPZgF6cUpkZxkk-m3qLC_mdq5FiMeiPBZoRVsNcJ7Q8Rljd4gmZFAMSqMt2WIxE80P7gYVg_bmVzXgRt_0l_AoaPUAjhBthY4YmMbuDzrmTuANJ1cKSqqDCwLWJruhvdmWT0jtPWjBS6EN7wOGiUbAUffLAVyTTnRkrOMB8GLuNvHqkEAt2guPm4q-qfI5UcSv6yNJOhkwQouhLZgwOrmb7GFQZHXgQxHoDtUR9wFfxMQbHMH3YJW63kZGWsPhvfMRbNKfmqp7U7V7bNtw=s64",
      "userId": "01347584962082294341"
     },
     "user_tz": -60
    },
    "id": "mFnMhyg6Y_Zu"
   },
   "outputs": [],
   "source": [
    "sizel = 500 # no. of samples from left boundary per iteration\n",
    "sizer = 500 # no. of samples from right boundary\n",
    "sizex = 6000 # no. of samples inside domain\n",
    "n=16 # no. of polynomial terms in Bi(x|\\theta)\n",
    "      "
   ]
  },
  {
   "cell_type": "markdown",
   "metadata": {
    "id": "5SStpNj4Y_Zv"
   },
   "source": [
    "Define placeholders to feed sampled training points into"
   ]
  },
  {
   "cell_type": "code",
   "execution_count": 11,
   "metadata": {
    "executionInfo": {
     "elapsed": 2293,
     "status": "ok",
     "timestamp": 1618663803988,
     "user": {
      "displayName": "Tony Shardlow",
      "photoUrl": "https://lh3.googleusercontent.com/a-/AOh14GiXlpH_lGhA-QuJ4PgAcl2Iyf43SpomCV5aq79J0QrTr786Av4pUxsMMw_Fgk1FK7NFntVjs6yNzwDdVERTQdsgyzjU3jJllKdrXHDX6xNbdnsFQXtcJiBFJsccsurTtRzHMSjBGa96-Rs7DXWJwrMJXP5bqGMtuBOmSXTZO9IgTH7RrORYeImd8qL_s5MWCeg3VDweyXcSiVT8xtfY6Ra1YwcJW-GuKNRYQN2Abl3281oVS9GYvOOYRUoSkHM1ujDzQjiSpn20GFMup_P9hOG04arDimDUgdCqBo27c74cD3yJsW7zE6h4LHIi7tUYiELn_8drVYwn_LIPEZG4CQ-QhV1QItUVB0ght9EVtafyXDdR4P033SZOBgfyYTXhLQfu2HN4giffn0laW9ETqfeM_A0tJj0GrD71yq0XSHUzXmAO7zkXYNxTEhJpDRB6Zf-gdoYqs4k7_xoCqn4VXbp_WihdEU4dLWAm-yDSxev3ZiBDuPZgF6cUpkZxkk-m3qLC_mdq5FiMeiPBZoRVsNcJ7Q8Rljd4gmZFAMSqMt2WIxE80P7gYVg_bmVzXgRt_0l_AoaPUAjhBthY4YmMbuDzrmTuANJ1cKSqqDCwLWJruhvdmWT0jtPWjBS6EN7wOGiUbAUffLAVyTTnRkrOMB8GLuNvHqkEAt2guPm4q-qfI5UcSv6yNJOhkwQouhLZgwOrmb7GFQZHXgQxHoDtUR9wFfxMQbHMH3YJW63kZGWsPhvfMRbNKfmqp7U7V7bNtw=s64",
      "userId": "01347584962082294341"
     },
     "user_tz": -60
    },
    "id": "OZzzPiE9Y_Zv"
   },
   "outputs": [],
   "source": [
    "lr   = tf.placeholder(dtype = \"float32\", shape = [])\n",
    "loss_pl   = tf.placeholder(dtype = \"float32\", shape = [])"
   ]
  },
  {
   "cell_type": "code",
   "execution_count": 12,
   "metadata": {
    "executionInfo": {
     "elapsed": 2287,
     "status": "ok",
     "timestamp": 1618663803988,
     "user": {
      "displayName": "Tony Shardlow",
      "photoUrl": "https://lh3.googleusercontent.com/a-/AOh14GiXlpH_lGhA-QuJ4PgAcl2Iyf43SpomCV5aq79J0QrTr786Av4pUxsMMw_Fgk1FK7NFntVjs6yNzwDdVERTQdsgyzjU3jJllKdrXHDX6xNbdnsFQXtcJiBFJsccsurTtRzHMSjBGa96-Rs7DXWJwrMJXP5bqGMtuBOmSXTZO9IgTH7RrORYeImd8qL_s5MWCeg3VDweyXcSiVT8xtfY6Ra1YwcJW-GuKNRYQN2Abl3281oVS9GYvOOYRUoSkHM1ujDzQjiSpn20GFMup_P9hOG04arDimDUgdCqBo27c74cD3yJsW7zE6h4LHIi7tUYiELn_8drVYwn_LIPEZG4CQ-QhV1QItUVB0ght9EVtafyXDdR4P033SZOBgfyYTXhLQfu2HN4giffn0laW9ETqfeM_A0tJj0GrD71yq0XSHUzXmAO7zkXYNxTEhJpDRB6Zf-gdoYqs4k7_xoCqn4VXbp_WihdEU4dLWAm-yDSxev3ZiBDuPZgF6cUpkZxkk-m3qLC_mdq5FiMeiPBZoRVsNcJ7Q8Rljd4gmZFAMSqMt2WIxE80P7gYVg_bmVzXgRt_0l_AoaPUAjhBthY4YmMbuDzrmTuANJ1cKSqqDCwLWJruhvdmWT0jtPWjBS6EN7wOGiUbAUffLAVyTTnRkrOMB8GLuNvHqkEAt2guPm4q-qfI5UcSv6yNJOhkwQouhLZgwOrmb7GFQZHXgQxHoDtUR9wFfxMQbHMH3YJW63kZGWsPhvfMRbNKfmqp7U7V7bNtw=s64",
      "userId": "01347584962082294341"
     },
     "user_tz": -60
    },
    "id": "WAj06GTDY_Zw"
   },
   "outputs": [],
   "source": [
    "xl_pl  = tf.placeholder(dtype = \"float32\", shape = [sizel,1])\n",
    "coeffl_pl  = tf.placeholder(dtype = \"float32\", shape = [sizel,n])"
   ]
  },
  {
   "cell_type": "code",
   "execution_count": 13,
   "metadata": {
    "executionInfo": {
     "elapsed": 2282,
     "status": "ok",
     "timestamp": 1618663803989,
     "user": {
      "displayName": "Tony Shardlow",
      "photoUrl": "https://lh3.googleusercontent.com/a-/AOh14GiXlpH_lGhA-QuJ4PgAcl2Iyf43SpomCV5aq79J0QrTr786Av4pUxsMMw_Fgk1FK7NFntVjs6yNzwDdVERTQdsgyzjU3jJllKdrXHDX6xNbdnsFQXtcJiBFJsccsurTtRzHMSjBGa96-Rs7DXWJwrMJXP5bqGMtuBOmSXTZO9IgTH7RrORYeImd8qL_s5MWCeg3VDweyXcSiVT8xtfY6Ra1YwcJW-GuKNRYQN2Abl3281oVS9GYvOOYRUoSkHM1ujDzQjiSpn20GFMup_P9hOG04arDimDUgdCqBo27c74cD3yJsW7zE6h4LHIi7tUYiELn_8drVYwn_LIPEZG4CQ-QhV1QItUVB0ght9EVtafyXDdR4P033SZOBgfyYTXhLQfu2HN4giffn0laW9ETqfeM_A0tJj0GrD71yq0XSHUzXmAO7zkXYNxTEhJpDRB6Zf-gdoYqs4k7_xoCqn4VXbp_WihdEU4dLWAm-yDSxev3ZiBDuPZgF6cUpkZxkk-m3qLC_mdq5FiMeiPBZoRVsNcJ7Q8Rljd4gmZFAMSqMt2WIxE80P7gYVg_bmVzXgRt_0l_AoaPUAjhBthY4YmMbuDzrmTuANJ1cKSqqDCwLWJruhvdmWT0jtPWjBS6EN7wOGiUbAUffLAVyTTnRkrOMB8GLuNvHqkEAt2guPm4q-qfI5UcSv6yNJOhkwQouhLZgwOrmb7GFQZHXgQxHoDtUR9wFfxMQbHMH3YJW63kZGWsPhvfMRbNKfmqp7U7V7bNtw=s64",
      "userId": "01347584962082294341"
     },
     "user_tz": -60
    },
    "id": "d71CrXrAY_Zw"
   },
   "outputs": [],
   "source": [
    "x_pl  = tf.placeholder(dtype = \"float32\", shape = [sizex,1])\n",
    "coeff_pl  = tf.placeholder(dtype = \"float32\", shape = [sizex,n])"
   ]
  },
  {
   "cell_type": "code",
   "execution_count": 14,
   "metadata": {
    "executionInfo": {
     "elapsed": 2273,
     "status": "ok",
     "timestamp": 1618663803990,
     "user": {
      "displayName": "Tony Shardlow",
      "photoUrl": "https://lh3.googleusercontent.com/a-/AOh14GiXlpH_lGhA-QuJ4PgAcl2Iyf43SpomCV5aq79J0QrTr786Av4pUxsMMw_Fgk1FK7NFntVjs6yNzwDdVERTQdsgyzjU3jJllKdrXHDX6xNbdnsFQXtcJiBFJsccsurTtRzHMSjBGa96-Rs7DXWJwrMJXP5bqGMtuBOmSXTZO9IgTH7RrORYeImd8qL_s5MWCeg3VDweyXcSiVT8xtfY6Ra1YwcJW-GuKNRYQN2Abl3281oVS9GYvOOYRUoSkHM1ujDzQjiSpn20GFMup_P9hOG04arDimDUgdCqBo27c74cD3yJsW7zE6h4LHIi7tUYiELn_8drVYwn_LIPEZG4CQ-QhV1QItUVB0ght9EVtafyXDdR4P033SZOBgfyYTXhLQfu2HN4giffn0laW9ETqfeM_A0tJj0GrD71yq0XSHUzXmAO7zkXYNxTEhJpDRB6Zf-gdoYqs4k7_xoCqn4VXbp_WihdEU4dLWAm-yDSxev3ZiBDuPZgF6cUpkZxkk-m3qLC_mdq5FiMeiPBZoRVsNcJ7Q8Rljd4gmZFAMSqMt2WIxE80P7gYVg_bmVzXgRt_0l_AoaPUAjhBthY4YmMbuDzrmTuANJ1cKSqqDCwLWJruhvdmWT0jtPWjBS6EN7wOGiUbAUffLAVyTTnRkrOMB8GLuNvHqkEAt2guPm4q-qfI5UcSv6yNJOhkwQouhLZgwOrmb7GFQZHXgQxHoDtUR9wFfxMQbHMH3YJW63kZGWsPhvfMRbNKfmqp7U7V7bNtw=s64",
      "userId": "01347584962082294341"
     },
     "user_tz": -60
    },
    "id": "qkD-tIawY_Zx"
   },
   "outputs": [],
   "source": [
    "xr_pl  = tf.placeholder(dtype = \"float32\", shape = [sizer,1])\n",
    "coeffr_pl  = tf.placeholder(dtype = \"float32\", shape = [sizer,n])"
   ]
  },
  {
   "cell_type": "code",
   "execution_count": 15,
   "metadata": {
    "executionInfo": {
     "elapsed": 2266,
     "status": "ok",
     "timestamp": 1618663803991,
     "user": {
      "displayName": "Tony Shardlow",
      "photoUrl": "https://lh3.googleusercontent.com/a-/AOh14GiXlpH_lGhA-QuJ4PgAcl2Iyf43SpomCV5aq79J0QrTr786Av4pUxsMMw_Fgk1FK7NFntVjs6yNzwDdVERTQdsgyzjU3jJllKdrXHDX6xNbdnsFQXtcJiBFJsccsurTtRzHMSjBGa96-Rs7DXWJwrMJXP5bqGMtuBOmSXTZO9IgTH7RrORYeImd8qL_s5MWCeg3VDweyXcSiVT8xtfY6Ra1YwcJW-GuKNRYQN2Abl3281oVS9GYvOOYRUoSkHM1ujDzQjiSpn20GFMup_P9hOG04arDimDUgdCqBo27c74cD3yJsW7zE6h4LHIi7tUYiELn_8drVYwn_LIPEZG4CQ-QhV1QItUVB0ght9EVtafyXDdR4P033SZOBgfyYTXhLQfu2HN4giffn0laW9ETqfeM_A0tJj0GrD71yq0XSHUzXmAO7zkXYNxTEhJpDRB6Zf-gdoYqs4k7_xoCqn4VXbp_WihdEU4dLWAm-yDSxev3ZiBDuPZgF6cUpkZxkk-m3qLC_mdq5FiMeiPBZoRVsNcJ7Q8Rljd4gmZFAMSqMt2WIxE80P7gYVg_bmVzXgRt_0l_AoaPUAjhBthY4YmMbuDzrmTuANJ1cKSqqDCwLWJruhvdmWT0jtPWjBS6EN7wOGiUbAUffLAVyTTnRkrOMB8GLuNvHqkEAt2guPm4q-qfI5UcSv6yNJOhkwQouhLZgwOrmb7GFQZHXgQxHoDtUR9wFfxMQbHMH3YJW63kZGWsPhvfMRbNKfmqp7U7V7bNtw=s64",
      "userId": "01347584962082294341"
     },
     "user_tz": -60
    },
    "id": "LpNNhs3FY_Zx"
   },
   "outputs": [],
   "source": [
    "X = tf.concat([x_pl,coeff_pl],axis=1)\n",
    "Xl = tf.concat([xl_pl,coeffl_pl],axis=1)\n",
    "Xr = tf.concat([xr_pl,coeffr_pl],axis=1)"
   ]
  },
  {
   "cell_type": "markdown",
   "metadata": {
    "id": "HJMs1bPZY_Zy"
   },
   "source": [
    "set up neural network to approximate the solution"
   ]
  },
  {
   "cell_type": "code",
   "execution_count": 16,
   "metadata": {
    "colab": {
     "base_uri": "https://localhost:8080/"
    },
    "executionInfo": {
     "elapsed": 2578,
     "status": "ok",
     "timestamp": 1618663804315,
     "user": {
      "displayName": "Tony Shardlow",
      "photoUrl": "https://lh3.googleusercontent.com/a-/AOh14GiXlpH_lGhA-QuJ4PgAcl2Iyf43SpomCV5aq79J0QrTr786Av4pUxsMMw_Fgk1FK7NFntVjs6yNzwDdVERTQdsgyzjU3jJllKdrXHDX6xNbdnsFQXtcJiBFJsccsurTtRzHMSjBGa96-Rs7DXWJwrMJXP5bqGMtuBOmSXTZO9IgTH7RrORYeImd8qL_s5MWCeg3VDweyXcSiVT8xtfY6Ra1YwcJW-GuKNRYQN2Abl3281oVS9GYvOOYRUoSkHM1ujDzQjiSpn20GFMup_P9hOG04arDimDUgdCqBo27c74cD3yJsW7zE6h4LHIi7tUYiELn_8drVYwn_LIPEZG4CQ-QhV1QItUVB0ght9EVtafyXDdR4P033SZOBgfyYTXhLQfu2HN4giffn0laW9ETqfeM_A0tJj0GrD71yq0XSHUzXmAO7zkXYNxTEhJpDRB6Zf-gdoYqs4k7_xoCqn4VXbp_WihdEU4dLWAm-yDSxev3ZiBDuPZgF6cUpkZxkk-m3qLC_mdq5FiMeiPBZoRVsNcJ7Q8Rljd4gmZFAMSqMt2WIxE80P7gYVg_bmVzXgRt_0l_AoaPUAjhBthY4YmMbuDzrmTuANJ1cKSqqDCwLWJruhvdmWT0jtPWjBS6EN7wOGiUbAUffLAVyTTnRkrOMB8GLuNvHqkEAt2guPm4q-qfI5UcSv6yNJOhkwQouhLZgwOrmb7GFQZHXgQxHoDtUR9wFfxMQbHMH3YJW63kZGWsPhvfMRbNKfmqp7U7V7bNtw=s64",
      "userId": "01347584962082294341"
     },
     "user_tz": -60
    },
    "id": "7uuPdbFQY_Zy",
    "outputId": "6f32ef36-26f8-436d-a241-c58aaf669849"
   },
   "outputs": [
    {
     "name": "stdout",
     "output_type": "stream",
     "text": [
      "WARNING:tensorflow:From /content/drive/MyDrive/Colab Notebooks/deep_surrogate/Biot/dense_net.py:14: The name tf.truncated_normal is deprecated. Please use tf.random.truncated_normal instead.\n",
      "\n"
     ]
    }
   ],
   "source": [
    "no_layers = 4\n",
    "nodes_per_layer = 45\n",
    "layers   = [n+1] + no_layers*[nodes_per_layer] + [1]\n",
    "net = dense_net(layers)"
   ]
  },
  {
   "cell_type": "markdown",
   "metadata": {
    "id": "u3WN32GLY_Zz"
   },
   "source": [
    "solution domain"
   ]
  },
  {
   "cell_type": "code",
   "execution_count": 17,
   "metadata": {
    "executionInfo": {
     "elapsed": 2566,
     "status": "ok",
     "timestamp": 1618663804317,
     "user": {
      "displayName": "Tony Shardlow",
      "photoUrl": "https://lh3.googleusercontent.com/a-/AOh14GiXlpH_lGhA-QuJ4PgAcl2Iyf43SpomCV5aq79J0QrTr786Av4pUxsMMw_Fgk1FK7NFntVjs6yNzwDdVERTQdsgyzjU3jJllKdrXHDX6xNbdnsFQXtcJiBFJsccsurTtRzHMSjBGa96-Rs7DXWJwrMJXP5bqGMtuBOmSXTZO9IgTH7RrORYeImd8qL_s5MWCeg3VDweyXcSiVT8xtfY6Ra1YwcJW-GuKNRYQN2Abl3281oVS9GYvOOYRUoSkHM1ujDzQjiSpn20GFMup_P9hOG04arDimDUgdCqBo27c74cD3yJsW7zE6h4LHIi7tUYiELn_8drVYwn_LIPEZG4CQ-QhV1QItUVB0ght9EVtafyXDdR4P033SZOBgfyYTXhLQfu2HN4giffn0laW9ETqfeM_A0tJj0GrD71yq0XSHUzXmAO7zkXYNxTEhJpDRB6Zf-gdoYqs4k7_xoCqn4VXbp_WihdEU4dLWAm-yDSxev3ZiBDuPZgF6cUpkZxkk-m3qLC_mdq5FiMeiPBZoRVsNcJ7Q8Rljd4gmZFAMSqMt2WIxE80P7gYVg_bmVzXgRt_0l_AoaPUAjhBthY4YmMbuDzrmTuANJ1cKSqqDCwLWJruhvdmWT0jtPWjBS6EN7wOGiUbAUffLAVyTTnRkrOMB8GLuNvHqkEAt2guPm4q-qfI5UcSv6yNJOhkwQouhLZgwOrmb7GFQZHXgQxHoDtUR9wFfxMQbHMH3YJW63kZGWsPhvfMRbNKfmqp7U7V7bNtw=s64",
      "userId": "01347584962082294341"
     },
     "user_tz": -60
    },
    "id": "mmZCK9jKY_Zz"
   },
   "outputs": [],
   "source": [
    "xlim = [0.3,1.]"
   ]
  },
  {
   "cell_type": "markdown",
   "metadata": {
    "id": "PQXVx9TRY_Zz"
   },
   "source": [
    "parameter domain - 'scale' is a vector used to scale the solution domain of <br>\n",
    "the coefficients. The solution domain for coefficient i is coefflim/scale[i]  "
   ]
  },
  {
   "cell_type": "code",
   "execution_count": 18,
   "metadata": {
    "executionInfo": {
     "elapsed": 2558,
     "status": "ok",
     "timestamp": 1618663804317,
     "user": {
      "displayName": "Tony Shardlow",
      "photoUrl": "https://lh3.googleusercontent.com/a-/AOh14GiXlpH_lGhA-QuJ4PgAcl2Iyf43SpomCV5aq79J0QrTr786Av4pUxsMMw_Fgk1FK7NFntVjs6yNzwDdVERTQdsgyzjU3jJllKdrXHDX6xNbdnsFQXtcJiBFJsccsurTtRzHMSjBGa96-Rs7DXWJwrMJXP5bqGMtuBOmSXTZO9IgTH7RrORYeImd8qL_s5MWCeg3VDweyXcSiVT8xtfY6Ra1YwcJW-GuKNRYQN2Abl3281oVS9GYvOOYRUoSkHM1ujDzQjiSpn20GFMup_P9hOG04arDimDUgdCqBo27c74cD3yJsW7zE6h4LHIi7tUYiELn_8drVYwn_LIPEZG4CQ-QhV1QItUVB0ght9EVtafyXDdR4P033SZOBgfyYTXhLQfu2HN4giffn0laW9ETqfeM_A0tJj0GrD71yq0XSHUzXmAO7zkXYNxTEhJpDRB6Zf-gdoYqs4k7_xoCqn4VXbp_WihdEU4dLWAm-yDSxev3ZiBDuPZgF6cUpkZxkk-m3qLC_mdq5FiMeiPBZoRVsNcJ7Q8Rljd4gmZFAMSqMt2WIxE80P7gYVg_bmVzXgRt_0l_AoaPUAjhBthY4YmMbuDzrmTuANJ1cKSqqDCwLWJruhvdmWT0jtPWjBS6EN7wOGiUbAUffLAVyTTnRkrOMB8GLuNvHqkEAt2guPm4q-qfI5UcSv6yNJOhkwQouhLZgwOrmb7GFQZHXgQxHoDtUR9wFfxMQbHMH3YJW63kZGWsPhvfMRbNKfmqp7U7V7bNtw=s64",
      "userId": "01347584962082294341"
     },
     "user_tz": -60
    },
    "id": "UJurgfvMY_Z0"
   },
   "outputs": [],
   "source": [
    "coefflim = [-5.,20]\n",
    "leading_coef_dom = np.array([1,1,2,4])\n",
    "scale = np.hstack([leading_coef_dom,np.cumprod(2*np.ones(n-leading_coef_dom.shape[0]))*2])"
   ]
  },
  {
   "cell_type": "markdown",
   "metadata": {
    "id": "BAJKw10_Y_Z0"
   },
   "source": [
    "valuate differential operator terms on sample points"
   ]
  },
  {
   "cell_type": "code",
   "execution_count": 19,
   "metadata": {
    "executionInfo": {
     "elapsed": 2552,
     "status": "ok",
     "timestamp": 1618663804318,
     "user": {
      "displayName": "Tony Shardlow",
      "photoUrl": "https://lh3.googleusercontent.com/a-/AOh14GiXlpH_lGhA-QuJ4PgAcl2Iyf43SpomCV5aq79J0QrTr786Av4pUxsMMw_Fgk1FK7NFntVjs6yNzwDdVERTQdsgyzjU3jJllKdrXHDX6xNbdnsFQXtcJiBFJsccsurTtRzHMSjBGa96-Rs7DXWJwrMJXP5bqGMtuBOmSXTZO9IgTH7RrORYeImd8qL_s5MWCeg3VDweyXcSiVT8xtfY6Ra1YwcJW-GuKNRYQN2Abl3281oVS9GYvOOYRUoSkHM1ujDzQjiSpn20GFMup_P9hOG04arDimDUgdCqBo27c74cD3yJsW7zE6h4LHIi7tUYiELn_8drVYwn_LIPEZG4CQ-QhV1QItUVB0ght9EVtafyXDdR4P033SZOBgfyYTXhLQfu2HN4giffn0laW9ETqfeM_A0tJj0GrD71yq0XSHUzXmAO7zkXYNxTEhJpDRB6Zf-gdoYqs4k7_xoCqn4VXbp_WihdEU4dLWAm-yDSxev3ZiBDuPZgF6cUpkZxkk-m3qLC_mdq5FiMeiPBZoRVsNcJ7Q8Rljd4gmZFAMSqMt2WIxE80P7gYVg_bmVzXgRt_0l_AoaPUAjhBthY4YmMbuDzrmTuANJ1cKSqqDCwLWJruhvdmWT0jtPWjBS6EN7wOGiUbAUffLAVyTTnRkrOMB8GLuNvHqkEAt2guPm4q-qfI5UcSv6yNJOhkwQouhLZgwOrmb7GFQZHXgQxHoDtUR9wFfxMQbHMH3YJW63kZGWsPhvfMRbNKfmqp7U7V7bNtw=s64",
      "userId": "01347584962082294341"
     },
     "user_tz": -60
    },
    "id": "KueqSquVY_Z1"
   },
   "outputs": [],
   "source": [
    "u  = net.evaluate(X)\n",
    "u_x = tf.gradients(u,x_pl)[0]\n",
    "u_xx = tf.gradients(u_x,x_pl)[0]"
   ]
  },
  {
   "cell_type": "markdown",
   "metadata": {
    "id": "RNZAhuSbY_Z1"
   },
   "source": [
    "valuate network at boundary value sample points"
   ]
  },
  {
   "cell_type": "code",
   "execution_count": 20,
   "metadata": {
    "executionInfo": {
     "elapsed": 2546,
     "status": "ok",
     "timestamp": 1618663804319,
     "user": {
      "displayName": "Tony Shardlow",
      "photoUrl": "https://lh3.googleusercontent.com/a-/AOh14GiXlpH_lGhA-QuJ4PgAcl2Iyf43SpomCV5aq79J0QrTr786Av4pUxsMMw_Fgk1FK7NFntVjs6yNzwDdVERTQdsgyzjU3jJllKdrXHDX6xNbdnsFQXtcJiBFJsccsurTtRzHMSjBGa96-Rs7DXWJwrMJXP5bqGMtuBOmSXTZO9IgTH7RrORYeImd8qL_s5MWCeg3VDweyXcSiVT8xtfY6Ra1YwcJW-GuKNRYQN2Abl3281oVS9GYvOOYRUoSkHM1ujDzQjiSpn20GFMup_P9hOG04arDimDUgdCqBo27c74cD3yJsW7zE6h4LHIi7tUYiELn_8drVYwn_LIPEZG4CQ-QhV1QItUVB0ght9EVtafyXDdR4P033SZOBgfyYTXhLQfu2HN4giffn0laW9ETqfeM_A0tJj0GrD71yq0XSHUzXmAO7zkXYNxTEhJpDRB6Zf-gdoYqs4k7_xoCqn4VXbp_WihdEU4dLWAm-yDSxev3ZiBDuPZgF6cUpkZxkk-m3qLC_mdq5FiMeiPBZoRVsNcJ7Q8Rljd4gmZFAMSqMt2WIxE80P7gYVg_bmVzXgRt_0l_AoaPUAjhBthY4YmMbuDzrmTuANJ1cKSqqDCwLWJruhvdmWT0jtPWjBS6EN7wOGiUbAUffLAVyTTnRkrOMB8GLuNvHqkEAt2guPm4q-qfI5UcSv6yNJOhkwQouhLZgwOrmb7GFQZHXgQxHoDtUR9wFfxMQbHMH3YJW63kZGWsPhvfMRbNKfmqp7U7V7bNtw=s64",
      "userId": "01347584962082294341"
     },
     "user_tz": -60
    },
    "id": "JpR6s0ClY_Z1"
   },
   "outputs": [],
   "source": [
    "ul = net.evaluate(Xl)\n",
    "ur = net.evaluate(Xr)"
   ]
  },
  {
   "cell_type": "markdown",
   "metadata": {
    "id": "GNxpZb-ZY_Z2"
   },
   "source": [
    "define polynomial approximation of Biot number "
   ]
  },
  {
   "cell_type": "code",
   "execution_count": 21,
   "metadata": {
    "executionInfo": {
     "elapsed": 2839,
     "status": "ok",
     "timestamp": 1618663804624,
     "user": {
      "displayName": "Tony Shardlow",
      "photoUrl": "https://lh3.googleusercontent.com/a-/AOh14GiXlpH_lGhA-QuJ4PgAcl2Iyf43SpomCV5aq79J0QrTr786Av4pUxsMMw_Fgk1FK7NFntVjs6yNzwDdVERTQdsgyzjU3jJllKdrXHDX6xNbdnsFQXtcJiBFJsccsurTtRzHMSjBGa96-Rs7DXWJwrMJXP5bqGMtuBOmSXTZO9IgTH7RrORYeImd8qL_s5MWCeg3VDweyXcSiVT8xtfY6Ra1YwcJW-GuKNRYQN2Abl3281oVS9GYvOOYRUoSkHM1ujDzQjiSpn20GFMup_P9hOG04arDimDUgdCqBo27c74cD3yJsW7zE6h4LHIi7tUYiELn_8drVYwn_LIPEZG4CQ-QhV1QItUVB0ght9EVtafyXDdR4P033SZOBgfyYTXhLQfu2HN4giffn0laW9ETqfeM_A0tJj0GrD71yq0XSHUzXmAO7zkXYNxTEhJpDRB6Zf-gdoYqs4k7_xoCqn4VXbp_WihdEU4dLWAm-yDSxev3ZiBDuPZgF6cUpkZxkk-m3qLC_mdq5FiMeiPBZoRVsNcJ7Q8Rljd4gmZFAMSqMt2WIxE80P7gYVg_bmVzXgRt_0l_AoaPUAjhBthY4YmMbuDzrmTuANJ1cKSqqDCwLWJruhvdmWT0jtPWjBS6EN7wOGiUbAUffLAVyTTnRkrOMB8GLuNvHqkEAt2guPm4q-qfI5UcSv6yNJOhkwQouhLZgwOrmb7GFQZHXgQxHoDtUR9wFfxMQbHMH3YJW63kZGWsPhvfMRbNKfmqp7U7V7bNtw=s64",
      "userId": "01347584962082294341"
     },
     "user_tz": -60
    },
    "id": "6itmEqF5Y_Z2"
   },
   "outputs": [],
   "source": [
    "Bi  = sum(tf.reshape(coeff_pl[:,i],[-1,1])*x_pl**i for i in range(n))"
   ]
  },
  {
   "cell_type": "markdown",
   "metadata": {
    "id": "WcwMs3s8Y_Z2"
   },
   "source": [
    "construct loss function"
   ]
  },
  {
   "cell_type": "code",
   "execution_count": 22,
   "metadata": {
    "executionInfo": {
     "elapsed": 2831,
     "status": "ok",
     "timestamp": 1618663804625,
     "user": {
      "displayName": "Tony Shardlow",
      "photoUrl": "https://lh3.googleusercontent.com/a-/AOh14GiXlpH_lGhA-QuJ4PgAcl2Iyf43SpomCV5aq79J0QrTr786Av4pUxsMMw_Fgk1FK7NFntVjs6yNzwDdVERTQdsgyzjU3jJllKdrXHDX6xNbdnsFQXtcJiBFJsccsurTtRzHMSjBGa96-Rs7DXWJwrMJXP5bqGMtuBOmSXTZO9IgTH7RrORYeImd8qL_s5MWCeg3VDweyXcSiVT8xtfY6Ra1YwcJW-GuKNRYQN2Abl3281oVS9GYvOOYRUoSkHM1ujDzQjiSpn20GFMup_P9hOG04arDimDUgdCqBo27c74cD3yJsW7zE6h4LHIi7tUYiELn_8drVYwn_LIPEZG4CQ-QhV1QItUVB0ght9EVtafyXDdR4P033SZOBgfyYTXhLQfu2HN4giffn0laW9ETqfeM_A0tJj0GrD71yq0XSHUzXmAO7zkXYNxTEhJpDRB6Zf-gdoYqs4k7_xoCqn4VXbp_WihdEU4dLWAm-yDSxev3ZiBDuPZgF6cUpkZxkk-m3qLC_mdq5FiMeiPBZoRVsNcJ7Q8Rljd4gmZFAMSqMt2WIxE80P7gYVg_bmVzXgRt_0l_AoaPUAjhBthY4YmMbuDzrmTuANJ1cKSqqDCwLWJruhvdmWT0jtPWjBS6EN7wOGiUbAUffLAVyTTnRkrOMB8GLuNvHqkEAt2guPm4q-qfI5UcSv6yNJOhkwQouhLZgwOrmb7GFQZHXgQxHoDtUR9wFfxMQbHMH3YJW63kZGWsPhvfMRbNKfmqp7U7V7bNtw=s64",
      "userId": "01347584962082294341"
     },
     "user_tz": -60
    },
    "id": "9FO_sdtdY_Z3"
   },
   "outputs": [],
   "source": [
    "pinn = (u_xx + u_x/x_pl - Bi*u)**2\n",
    "lbc = (ul-0.2)**2\n",
    "rbc = (ur-1)**2"
   ]
  },
  {
   "cell_type": "code",
   "execution_count": 23,
   "metadata": {
    "executionInfo": {
     "elapsed": 2822,
     "status": "ok",
     "timestamp": 1618663804626,
     "user": {
      "displayName": "Tony Shardlow",
      "photoUrl": "https://lh3.googleusercontent.com/a-/AOh14GiXlpH_lGhA-QuJ4PgAcl2Iyf43SpomCV5aq79J0QrTr786Av4pUxsMMw_Fgk1FK7NFntVjs6yNzwDdVERTQdsgyzjU3jJllKdrXHDX6xNbdnsFQXtcJiBFJsccsurTtRzHMSjBGa96-Rs7DXWJwrMJXP5bqGMtuBOmSXTZO9IgTH7RrORYeImd8qL_s5MWCeg3VDweyXcSiVT8xtfY6Ra1YwcJW-GuKNRYQN2Abl3281oVS9GYvOOYRUoSkHM1ujDzQjiSpn20GFMup_P9hOG04arDimDUgdCqBo27c74cD3yJsW7zE6h4LHIi7tUYiELn_8drVYwn_LIPEZG4CQ-QhV1QItUVB0ght9EVtafyXDdR4P033SZOBgfyYTXhLQfu2HN4giffn0laW9ETqfeM_A0tJj0GrD71yq0XSHUzXmAO7zkXYNxTEhJpDRB6Zf-gdoYqs4k7_xoCqn4VXbp_WihdEU4dLWAm-yDSxev3ZiBDuPZgF6cUpkZxkk-m3qLC_mdq5FiMeiPBZoRVsNcJ7Q8Rljd4gmZFAMSqMt2WIxE80P7gYVg_bmVzXgRt_0l_AoaPUAjhBthY4YmMbuDzrmTuANJ1cKSqqDCwLWJruhvdmWT0jtPWjBS6EN7wOGiUbAUffLAVyTTnRkrOMB8GLuNvHqkEAt2guPm4q-qfI5UcSv6yNJOhkwQouhLZgwOrmb7GFQZHXgQxHoDtUR9wFfxMQbHMH3YJW63kZGWsPhvfMRbNKfmqp7U7V7bNtw=s64",
      "userId": "01347584962082294341"
     },
     "user_tz": -60
    },
    "id": "EVKymCexY_Z3"
   },
   "outputs": [],
   "source": [
    "loss = tf.reduce_mean(pinn) + 10*tf.reduce_mean(lbc) + 10*tf.reduce_mean(rbc)"
   ]
  },
  {
   "cell_type": "markdown",
   "metadata": {
    "id": "9OCa290TY_Z3"
   },
   "source": [
    "prints total value of loss function to screen, as well as individual loss terms"
   ]
  },
  {
   "cell_type": "code",
   "execution_count": 24,
   "metadata": {
    "executionInfo": {
     "elapsed": 2810,
     "status": "ok",
     "timestamp": 1618663804626,
     "user": {
      "displayName": "Tony Shardlow",
      "photoUrl": "https://lh3.googleusercontent.com/a-/AOh14GiXlpH_lGhA-QuJ4PgAcl2Iyf43SpomCV5aq79J0QrTr786Av4pUxsMMw_Fgk1FK7NFntVjs6yNzwDdVERTQdsgyzjU3jJllKdrXHDX6xNbdnsFQXtcJiBFJsccsurTtRzHMSjBGa96-Rs7DXWJwrMJXP5bqGMtuBOmSXTZO9IgTH7RrORYeImd8qL_s5MWCeg3VDweyXcSiVT8xtfY6Ra1YwcJW-GuKNRYQN2Abl3281oVS9GYvOOYRUoSkHM1ujDzQjiSpn20GFMup_P9hOG04arDimDUgdCqBo27c74cD3yJsW7zE6h4LHIi7tUYiELn_8drVYwn_LIPEZG4CQ-QhV1QItUVB0ght9EVtafyXDdR4P033SZOBgfyYTXhLQfu2HN4giffn0laW9ETqfeM_A0tJj0GrD71yq0XSHUzXmAO7zkXYNxTEhJpDRB6Zf-gdoYqs4k7_xoCqn4VXbp_WihdEU4dLWAm-yDSxev3ZiBDuPZgF6cUpkZxkk-m3qLC_mdq5FiMeiPBZoRVsNcJ7Q8Rljd4gmZFAMSqMt2WIxE80P7gYVg_bmVzXgRt_0l_AoaPUAjhBthY4YmMbuDzrmTuANJ1cKSqqDCwLWJruhvdmWT0jtPWjBS6EN7wOGiUbAUffLAVyTTnRkrOMB8GLuNvHqkEAt2guPm4q-qfI5UcSv6yNJOhkwQouhLZgwOrmb7GFQZHXgQxHoDtUR9wFfxMQbHMH3YJW63kZGWsPhvfMRbNKfmqp7U7V7bNtw=s64",
      "userId": "01347584962082294341"
     },
     "user_tz": -60
    },
    "id": "clStv7tyY_Z4"
   },
   "outputs": [],
   "source": [
    "printout  = [loss,tf.reduce_mean(pinn), tf.reduce_mean(lbc), tf.reduce_mean(rbc)]"
   ]
  },
  {
   "cell_type": "markdown",
   "metadata": {
    "id": "DLKYZyMcY_Z4"
   },
   "source": [
    "get gradients of loss and clip by global norm"
   ]
  },
  {
   "cell_type": "code",
   "execution_count": 25,
   "metadata": {
    "colab": {
     "base_uri": "https://localhost:8080/"
    },
    "executionInfo": {
     "elapsed": 3286,
     "status": "ok",
     "timestamp": 1618663805121,
     "user": {
      "displayName": "Tony Shardlow",
      "photoUrl": "https://lh3.googleusercontent.com/a-/AOh14GiXlpH_lGhA-QuJ4PgAcl2Iyf43SpomCV5aq79J0QrTr786Av4pUxsMMw_Fgk1FK7NFntVjs6yNzwDdVERTQdsgyzjU3jJllKdrXHDX6xNbdnsFQXtcJiBFJsccsurTtRzHMSjBGa96-Rs7DXWJwrMJXP5bqGMtuBOmSXTZO9IgTH7RrORYeImd8qL_s5MWCeg3VDweyXcSiVT8xtfY6Ra1YwcJW-GuKNRYQN2Abl3281oVS9GYvOOYRUoSkHM1ujDzQjiSpn20GFMup_P9hOG04arDimDUgdCqBo27c74cD3yJsW7zE6h4LHIi7tUYiELn_8drVYwn_LIPEZG4CQ-QhV1QItUVB0ght9EVtafyXDdR4P033SZOBgfyYTXhLQfu2HN4giffn0laW9ETqfeM_A0tJj0GrD71yq0XSHUzXmAO7zkXYNxTEhJpDRB6Zf-gdoYqs4k7_xoCqn4VXbp_WihdEU4dLWAm-yDSxev3ZiBDuPZgF6cUpkZxkk-m3qLC_mdq5FiMeiPBZoRVsNcJ7Q8Rljd4gmZFAMSqMt2WIxE80P7gYVg_bmVzXgRt_0l_AoaPUAjhBthY4YmMbuDzrmTuANJ1cKSqqDCwLWJruhvdmWT0jtPWjBS6EN7wOGiUbAUffLAVyTTnRkrOMB8GLuNvHqkEAt2guPm4q-qfI5UcSv6yNJOhkwQouhLZgwOrmb7GFQZHXgQxHoDtUR9wFfxMQbHMH3YJW63kZGWsPhvfMRbNKfmqp7U7V7bNtw=s64",
      "userId": "01347584962082294341"
     },
     "user_tz": -60
    },
    "id": "9Nnrvjh0Y_Z4",
    "outputId": "c1bcb510-98bc-46cc-87cd-dac0ddb56898"
   },
   "outputs": [
    {
     "name": "stdout",
     "output_type": "stream",
     "text": [
      "WARNING:tensorflow:From /tensorflow-1.15.2/python3.7/tensorflow_core/python/ops/math_grad.py:1375: where (from tensorflow.python.ops.array_ops) is deprecated and will be removed in a future version.\n",
      "Instructions for updating:\n",
      "Use tf.where in 2.0, which has the same broadcast rule as np.where\n"
     ]
    }
   ],
   "source": [
    "optimizer = tf.train.AdamOptimizer(learning_rate = lr)\n",
    "gradients, variables = zip(*optimizer.compute_gradients(loss))\n",
    "gradients, _ = tf.clip_by_global_norm(gradients, 2.)\n",
    "train_op = optimizer.apply_gradients(zip(gradients, variables))"
   ]
  },
  {
   "cell_type": "markdown",
   "metadata": {
    "id": "388AXIZ8Y_Z5"
   },
   "source": [
    "start tf session and train network"
   ]
  },
  {
   "cell_type": "code",
   "execution_count": 26,
   "metadata": {
    "executionInfo": {
     "elapsed": 3258,
     "status": "ok",
     "timestamp": 1618663805125,
     "user": {
      "displayName": "Tony Shardlow",
      "photoUrl": "https://lh3.googleusercontent.com/a-/AOh14GiXlpH_lGhA-QuJ4PgAcl2Iyf43SpomCV5aq79J0QrTr786Av4pUxsMMw_Fgk1FK7NFntVjs6yNzwDdVERTQdsgyzjU3jJllKdrXHDX6xNbdnsFQXtcJiBFJsccsurTtRzHMSjBGa96-Rs7DXWJwrMJXP5bqGMtuBOmSXTZO9IgTH7RrORYeImd8qL_s5MWCeg3VDweyXcSiVT8xtfY6Ra1YwcJW-GuKNRYQN2Abl3281oVS9GYvOOYRUoSkHM1ujDzQjiSpn20GFMup_P9hOG04arDimDUgdCqBo27c74cD3yJsW7zE6h4LHIi7tUYiELn_8drVYwn_LIPEZG4CQ-QhV1QItUVB0ght9EVtafyXDdR4P033SZOBgfyYTXhLQfu2HN4giffn0laW9ETqfeM_A0tJj0GrD71yq0XSHUzXmAO7zkXYNxTEhJpDRB6Zf-gdoYqs4k7_xoCqn4VXbp_WihdEU4dLWAm-yDSxev3ZiBDuPZgF6cUpkZxkk-m3qLC_mdq5FiMeiPBZoRVsNcJ7Q8Rljd4gmZFAMSqMt2WIxE80P7gYVg_bmVzXgRt_0l_AoaPUAjhBthY4YmMbuDzrmTuANJ1cKSqqDCwLWJruhvdmWT0jtPWjBS6EN7wOGiUbAUffLAVyTTnRkrOMB8GLuNvHqkEAt2guPm4q-qfI5UcSv6yNJOhkwQouhLZgwOrmb7GFQZHXgQxHoDtUR9wFfxMQbHMH3YJW63kZGWsPhvfMRbNKfmqp7U7V7bNtw=s64",
      "userId": "01347584962082294341"
     },
     "user_tz": -60
    },
    "id": "8HBp7We7Y_Z5"
   },
   "outputs": [],
   "source": [
    "sess = tf.Session()\n",
    "sess.run(tf.global_variables_initializer())"
   ]
  },
  {
   "cell_type": "code",
   "execution_count": 27,
   "metadata": {
    "colab": {
     "base_uri": "https://localhost:8080/"
    },
    "executionInfo": {
     "elapsed": 74582,
     "status": "ok",
     "timestamp": 1618663876461,
     "user": {
      "displayName": "Tony Shardlow",
      "photoUrl": "https://lh3.googleusercontent.com/a-/AOh14GiXlpH_lGhA-QuJ4PgAcl2Iyf43SpomCV5aq79J0QrTr786Av4pUxsMMw_Fgk1FK7NFntVjs6yNzwDdVERTQdsgyzjU3jJllKdrXHDX6xNbdnsFQXtcJiBFJsccsurTtRzHMSjBGa96-Rs7DXWJwrMJXP5bqGMtuBOmSXTZO9IgTH7RrORYeImd8qL_s5MWCeg3VDweyXcSiVT8xtfY6Ra1YwcJW-GuKNRYQN2Abl3281oVS9GYvOOYRUoSkHM1ujDzQjiSpn20GFMup_P9hOG04arDimDUgdCqBo27c74cD3yJsW7zE6h4LHIi7tUYiELn_8drVYwn_LIPEZG4CQ-QhV1QItUVB0ght9EVtafyXDdR4P033SZOBgfyYTXhLQfu2HN4giffn0laW9ETqfeM_A0tJj0GrD71yq0XSHUzXmAO7zkXYNxTEhJpDRB6Zf-gdoYqs4k7_xoCqn4VXbp_WihdEU4dLWAm-yDSxev3ZiBDuPZgF6cUpkZxkk-m3qLC_mdq5FiMeiPBZoRVsNcJ7Q8Rljd4gmZFAMSqMt2WIxE80P7gYVg_bmVzXgRt_0l_AoaPUAjhBthY4YmMbuDzrmTuANJ1cKSqqDCwLWJruhvdmWT0jtPWjBS6EN7wOGiUbAUffLAVyTTnRkrOMB8GLuNvHqkEAt2guPm4q-qfI5UcSv6yNJOhkwQouhLZgwOrmb7GFQZHXgQxHoDtUR9wFfxMQbHMH3YJW63kZGWsPhvfMRbNKfmqp7U7V7bNtw=s64",
      "userId": "01347584962082294341"
     },
     "user_tz": -60
    },
    "id": "MOvQUk3XY_Z6",
    "outputId": "f6610ff1-1356-458d-c571-b7aba50e8f6c"
   },
   "outputs": [
    {
     "name": "stdout",
     "output_type": "stream",
     "text": [
      "iteration:  0 .  learning rate:  0.001 .  loss:  [85.191475, 66.86935, 0.27387452, 1.5583379]\n",
      "iteration:  10 .  learning rate:  0.001 .  loss:  [13.323153, 2.3857424, 0.05264043, 1.0411006]\n",
      "iteration:  20 .  learning rate:  0.001 .  loss:  [10.943512, 0.8852256, 0.038898297, 0.9669303]\n",
      "iteration:  30 .  learning rate:  0.001 .  loss:  [9.944158, 1.2217, 0.020066697, 0.85217905]\n",
      "iteration:  40 .  learning rate:  0.001 .  loss:  [9.764078, 1.082613, 0.019705933, 0.8484405]\n",
      "iteration:  50 .  learning rate:  0.001 .  loss:  [9.440826, 0.5881101, 0.026378797, 0.8588928]\n",
      "iteration:  60 .  learning rate:  0.001 .  loss:  [9.296153, 0.8795415, 0.024008252, 0.8176529]\n",
      "iteration:  70 .  learning rate:  0.001 .  loss:  [9.229479, 0.7782264, 0.02750596, 0.8176193]\n",
      "iteration:  80 .  learning rate:  0.001 .  loss:  [9.255981, 1.2461685, 0.023720955, 0.77726036]\n",
      "iteration:  90 .  learning rate:  0.001 .  loss:  [9.273509, 0.74752516, 0.03240397, 0.8201945]\n",
      "iteration:  100 .  learning rate:  0.001 .  loss:  [9.1948, 0.8871463, 0.027452266, 0.80331314]\n",
      "iteration:  110 .  learning rate:  0.001 .  loss:  [9.21183, 1.2427021, 0.02334276, 0.77357]\n",
      "iteration:  120 .  learning rate:  0.001 .  loss:  [9.505803, 1.8352696, 0.021365078, 0.74568826]\n",
      "iteration:  130 .  learning rate:  0.001 .  loss:  [9.166922, 0.6464625, 0.035228774, 0.81681705]\n",
      "iteration:  140 .  learning rate:  0.001 .  loss:  [9.063751, 0.6471286, 0.035635274, 0.80602694]\n",
      "iteration:  150 .  learning rate:  0.001 .  loss:  [9.160331, 1.503484, 0.022932628, 0.7427521]\n",
      "iteration:  160 .  learning rate:  0.001 .  loss:  [9.00509, 0.6750834, 0.033590846, 0.79940975]\n",
      "iteration:  170 .  learning rate:  0.001 .  loss:  [9.003136, 0.71409035, 0.034636106, 0.7942684]\n",
      "iteration:  180 .  learning rate:  0.001 .  loss:  [9.414787, 1.7556009, 0.023278844, 0.7426398]\n",
      "iteration:  190 .  learning rate:  0.001 .  loss:  [9.059769, 0.76749396, 0.03406438, 0.7951631]\n",
      "iteration:  200 .  learning rate:  0.001 .  loss:  [9.038962, 0.7189151, 0.03570005, 0.7963047]\n",
      "iteration:  210 .  learning rate:  0.001 .  loss:  [9.2267475, 1.6011735, 0.024624433, 0.7379329]\n",
      "iteration:  220 .  learning rate:  0.001 .  loss:  [9.045206, 0.75223225, 0.035627615, 0.7936698]\n",
      "iteration:  230 .  learning rate:  0.001 .  loss:  [9.012954, 0.7408681, 0.03662712, 0.79058146]\n",
      "iteration:  240 .  learning rate:  0.001 .  loss:  [9.037905, 1.6719824, 0.02257101, 0.7140212]\n",
      "iteration:  250 .  learning rate:  0.001 .  loss:  [8.7396965, 0.80181736, 0.033309992, 0.7604779]\n",
      "iteration:  260 .  learning rate:  0.001 .  loss:  [8.926521, 0.7314226, 0.03602908, 0.7834808]\n",
      "iteration:  270 .  learning rate:  0.001 .  loss:  [9.0428095, 1.6894225, 0.02376741, 0.7115713]\n",
      "iteration:  280 .  learning rate:  0.001 .  loss:  [8.905911, 0.761001, 0.036979567, 0.7775115]\n",
      "iteration:  290 .  learning rate:  0.001 .  loss:  [8.980618, 0.71794724, 0.03757679, 0.7886902]\n",
      "iteration:  300 .  learning rate:  0.001 .  loss:  [9.02665, 1.6793945, 0.024809396, 0.70991623]\n",
      "iteration:  310 .  learning rate:  0.001 .  loss:  [8.907092, 0.78912395, 0.036793347, 0.77500343]\n",
      "iteration:  320 .  learning rate:  0.001 .  loss:  [9.082987, 0.7399394, 0.038801886, 0.79550284]\n",
      "iteration:  330 .  learning rate:  0.001 .  loss:  [8.972147, 1.5831009, 0.025996326, 0.7129083]\n",
      "iteration:  340 .  learning rate:  0.001 .  loss:  [8.95044, 0.82318586, 0.03701306, 0.7757124]\n",
      "iteration:  350 .  learning rate:  0.001 .  loss:  [8.751107, 0.79846287, 0.036810122, 0.75845426]\n",
      "iteration:  360 .  learning rate:  0.001 .  loss:  [8.951385, 1.5945023, 0.02589334, 0.7097949]\n",
      "iteration:  370 .  learning rate:  0.001 .  loss:  [8.737164, 0.7930254, 0.03667238, 0.7577414]\n",
      "iteration:  380 .  learning rate:  0.001 .  loss:  [8.856283, 0.87701756, 0.03781947, 0.76010716]\n",
      "iteration:  390 .  learning rate:  0.001 .  loss:  [8.979294, 1.7119086, 0.025767118, 0.7009714]\n",
      "iteration:  400 .  learning rate:  0.001 .  loss:  [8.924885, 0.8547404, 0.03723458, 0.76977986]\n",
      "iteration:  410 .  learning rate:  0.001 .  loss:  [8.864469, 0.8639686, 0.03793953, 0.7621105]\n",
      "iteration:  420 .  learning rate:  0.001 .  loss:  [8.833701, 1.5385592, 0.026393935, 0.7031203]\n",
      "iteration:  430 .  learning rate:  0.001 .  loss:  [8.484617, 0.8431343, 0.03549201, 0.72865635]\n",
      "iteration:  440 .  learning rate:  0.001 .  loss:  [8.701145, 0.8659218, 0.03692262, 0.74659973]\n",
      "iteration:  450 .  learning rate:  0.001 .  loss:  [9.006895, 1.6475613, 0.026479652, 0.70945376]\n",
      "iteration:  460 .  learning rate:  0.001 .  loss:  [8.276575, 0.8640363, 0.0333801, 0.7078737]\n",
      "iteration:  470 .  learning rate:  0.001 .  loss:  [8.529787, 0.8376001, 0.03585718, 0.7333615]\n",
      "iteration:  480 .  learning rate:  0.001 .  loss:  [8.721175, 1.7286166, 0.024410654, 0.6748452]\n",
      "iteration:  490 .  learning rate:  0.001 .  loss:  [8.440954, 0.89688295, 0.03446352, 0.7199436]\n",
      "iteration:  500 .  learning rate:  0.001 .  loss:  [8.530341, 0.94045246, 0.03537383, 0.72361505]\n",
      "iteration:  510 .  learning rate:  0.001 .  loss:  [8.462889, 1.6467459, 0.024181396, 0.65743285]\n",
      "iteration:  520 .  learning rate:  0.001 .  loss:  [8.5336, 0.94457275, 0.034858666, 0.7240441]\n",
      "iteration:  530 .  learning rate:  0.001 .  loss:  [8.411843, 0.9548511, 0.03479894, 0.7109003]\n",
      "iteration:  540 .  learning rate:  0.001 .  loss:  [8.454529, 1.6345656, 0.02205126, 0.6599451]\n",
      "iteration:  550 .  learning rate:  0.001 .  loss:  [8.095334, 0.91534406, 0.028165592, 0.6898334]\n",
      "iteration:  560 .  learning rate:  0.001 .  loss:  [8.028965, 1.0211222, 0.028309165, 0.67247516]\n",
      "iteration:  570 .  learning rate:  0.001 .  loss:  [7.9733105, 1.8416544, 0.0170638, 0.5961018]\n",
      "iteration:  580 .  learning rate:  0.001 .  loss:  [7.6586614, 1.1659487, 0.025105285, 0.62416595]\n",
      "iteration:  590 .  learning rate:  0.001 .  loss:  [7.9258304, 1.0529829, 0.024388487, 0.6628963]\n",
      "iteration:  600 .  learning rate:  0.001 .  loss:  [7.543105, 2.14876, 0.01370712, 0.5257274]\n",
      "iteration:  610 .  learning rate:  0.001 .  loss:  [7.016174, 1.144861, 0.01969106, 0.5674402]\n",
      "iteration:  620 .  learning rate:  0.001 .  loss:  [6.952787, 1.2342145, 0.023171771, 0.54868543]\n",
      "iteration:  630 .  learning rate:  0.001 .  loss:  [6.7168403, 2.2708912, 0.013349829, 0.4312451]\n",
      "iteration:  640 .  learning rate:  0.001 .  loss:  [6.252993, 1.3789155, 0.015786255, 0.4716215]\n",
      "iteration:  650 .  learning rate:  0.001 .  loss:  [5.877839, 1.4126956, 0.019028332, 0.42748606]\n",
      "iteration:  660 .  learning rate:  0.001 .  loss:  [5.2636995, 2.0195904, 0.017057763, 0.30735317]\n",
      "iteration:  670 .  learning rate:  0.001 .  loss:  [4.9543743, 1.5374289, 0.026686793, 0.31500775]\n",
      "iteration:  680 .  learning rate:  0.001 .  loss:  [4.1447787, 1.4559222, 0.016236706, 0.25264895]\n",
      "iteration:  690 .  learning rate:  0.001 .  loss:  [3.7618074, 1.7493418, 0.015423344, 0.18582323]\n",
      "iteration:  700 .  learning rate:  0.001 .  loss:  [3.3582335, 1.7092407, 0.011989146, 0.15291013]\n",
      "iteration:  710 .  learning rate:  0.001 .  loss:  [2.8394544, 1.2810888, 0.013212317, 0.14262423]\n",
      "iteration:  720 .  learning rate:  0.001 .  loss:  [2.6408243, 1.3460636, 0.010855115, 0.11862096]\n",
      "iteration:  730 .  learning rate:  0.001 .  loss:  [2.741963, 1.2566131, 0.011703537, 0.13683145]\n",
      "iteration:  740 .  learning rate:  0.001 .  loss:  [2.376549, 1.3866692, 0.01041225, 0.08857573]\n",
      "iteration:  750 .  learning rate:  0.001 .  loss:  [2.6327386, 2.0035267, 0.008311438, 0.054609746]\n",
      "iteration:  760 .  learning rate:  0.001 .  loss:  [1.8953328, 1.073568, 0.0097923055, 0.07238418]\n",
      "iteration:  770 .  learning rate:  0.001 .  loss:  [2.294104, 1.735724, 0.010376261, 0.04546174]\n",
      "iteration:  780 .  learning rate:  0.001 .  loss:  [1.8829784, 0.8336507, 0.011537881, 0.0933949]\n",
      "iteration:  790 .  learning rate:  0.001 .  loss:  [1.7838321, 0.92317253, 0.013548365, 0.07251758]\n",
      "iteration:  800 .  learning rate:  0.001 .  loss:  [1.5553067, 0.9483636, 0.010707011, 0.049987294]\n",
      "iteration:  810 .  learning rate:  0.001 .  loss:  [1.6040552, 0.8283888, 0.011973963, 0.06559267]\n",
      "iteration:  820 .  learning rate:  0.001 .  loss:  [1.3777175, 0.82726467, 0.01205085, 0.04299443]\n",
      "iteration:  830 .  learning rate:  0.001 .  loss:  [1.258199, 0.6876403, 0.011059664, 0.0459962]\n",
      "iteration:  840 .  learning rate:  0.001 .  loss:  [1.5217481, 1.1784441, 0.0110838525, 0.023246543]\n",
      "iteration:  850 .  learning rate:  0.001 .  loss:  [1.355574, 0.6889531, 0.010972085, 0.05569]\n",
      "iteration:  860 .  learning rate:  0.001 .  loss:  [1.2019875, 0.7892823, 0.01111033, 0.030160187]\n",
      "iteration:  870 .  learning rate:  0.001 .  loss:  [3.1676223, 2.8037214, 0.016061092, 0.020329]\n",
      "iteration:  880 .  learning rate:  0.001 .  loss:  [1.1660755, 0.8383918, 0.011051168, 0.021717206]\n",
      "iteration:  890 .  learning rate:  0.001 .  loss:  [1.1393993, 0.573373, 0.012947164, 0.043655466]\n",
      "iteration:  900 .  learning rate:  0.001 .  loss:  [1.0308771, 0.5795675, 0.011667456, 0.033463504]\n",
      "iteration:  910 .  learning rate:  0.001 .  loss:  [1.2844337, 0.9314738, 0.012900971, 0.022395026]\n",
      "iteration:  920 .  learning rate:  0.001 .  loss:  [1.0568597, 0.56220645, 0.013248573, 0.03621675]\n",
      "iteration:  930 .  learning rate:  0.001 .  loss:  [1.060455, 0.5023382, 0.011911705, 0.04389998]\n",
      "iteration:  940 .  learning rate:  0.001 .  loss:  [1.8593522, 1.5162674, 0.00969051, 0.02461797]\n",
      "iteration:  950 .  learning rate:  0.001 .  loss:  [2.132007, 1.8358355, 0.013854265, 0.01576287]\n",
      "iteration:  960 .  learning rate:  0.001 .  loss:  [1.0809386, 0.73030585, 0.013309226, 0.021754049]\n",
      "iteration:  970 .  learning rate:  0.001 .  loss:  [2.2493892, 1.7528102, 0.00940527, 0.040252626]\n",
      "iteration:  980 .  learning rate:  0.001 .  loss:  [0.9542773, 0.47989178, 0.012518051, 0.034920502]\n",
      "iteration:  990 .  learning rate:  0.001 .  loss:  [1.95381, 1.6678165, 0.013181878, 0.015417465]\n"
     ]
    }
   ],
   "source": [
    "train(iterations = 1000,learning_rate = 0.001)\n",
    "#tra#in(iterations = 150000, learning_rate = 0.0001)\n",
    "#train(iterations = 300000, learning_rate = 0.00001)\n",
    "#train(iterations = 20000, learning_rate = 0.000001)"
   ]
  },
  {
   "cell_type": "markdown",
   "metadata": {
    "id": "dosfojSeY_Z6"
   },
   "source": [
    "#########################################################################################################<br>\n",
    "Section below creates solution plots<br>\n",
    "#########################################################################################################"
   ]
  },
  {
   "cell_type": "markdown",
   "metadata": {
    "id": "6CSsdxWNY_Z7"
   },
   "source": [
    "un this section plot solutions for a specified Bi(x|\\theta)  (default Bi=10)<br>\n",
    "i(x|\\theta) can be specified through its polynomial coefficients as a list<br>\n",
    "leading_coefs' of up to 16 values, if less than 16 coefficients are given <br>\n",
    "hen any higher degree terms are automatically set to have coefficient zero"
   ]
  },
  {
   "cell_type": "code",
   "execution_count": 28,
   "metadata": {
    "executionInfo": {
     "elapsed": 74575,
     "status": "ok",
     "timestamp": 1618663876463,
     "user": {
      "displayName": "Tony Shardlow",
      "photoUrl": "https://lh3.googleusercontent.com/a-/AOh14GiXlpH_lGhA-QuJ4PgAcl2Iyf43SpomCV5aq79J0QrTr786Av4pUxsMMw_Fgk1FK7NFntVjs6yNzwDdVERTQdsgyzjU3jJllKdrXHDX6xNbdnsFQXtcJiBFJsccsurTtRzHMSjBGa96-Rs7DXWJwrMJXP5bqGMtuBOmSXTZO9IgTH7RrORYeImd8qL_s5MWCeg3VDweyXcSiVT8xtfY6Ra1YwcJW-GuKNRYQN2Abl3281oVS9GYvOOYRUoSkHM1ujDzQjiSpn20GFMup_P9hOG04arDimDUgdCqBo27c74cD3yJsW7zE6h4LHIi7tUYiELn_8drVYwn_LIPEZG4CQ-QhV1QItUVB0ght9EVtafyXDdR4P033SZOBgfyYTXhLQfu2HN4giffn0laW9ETqfeM_A0tJj0GrD71yq0XSHUzXmAO7zkXYNxTEhJpDRB6Zf-gdoYqs4k7_xoCqn4VXbp_WihdEU4dLWAm-yDSxev3ZiBDuPZgF6cUpkZxkk-m3qLC_mdq5FiMeiPBZoRVsNcJ7Q8Rljd4gmZFAMSqMt2WIxE80P7gYVg_bmVzXgRt_0l_AoaPUAjhBthY4YmMbuDzrmTuANJ1cKSqqDCwLWJruhvdmWT0jtPWjBS6EN7wOGiUbAUffLAVyTTnRkrOMB8GLuNvHqkEAt2guPm4q-qfI5UcSv6yNJOhkwQouhLZgwOrmb7GFQZHXgQxHoDtUR9wFfxMQbHMH3YJW63kZGWsPhvfMRbNKfmqp7U7V7bNtw=s64",
      "userId": "01347584962082294341"
     },
     "user_tz": -60
    },
    "id": "9u_D5k2LY_Z7"
   },
   "outputs": [],
   "source": [
    "leading_coefs = [10] #<<--set polynomial coefficients of Bi(x|\\theta) here"
   ]
  },
  {
   "cell_type": "code",
   "execution_count": 29,
   "metadata": {
    "executionInfo": {
     "elapsed": 74568,
     "status": "ok",
     "timestamp": 1618663876464,
     "user": {
      "displayName": "Tony Shardlow",
      "photoUrl": "https://lh3.googleusercontent.com/a-/AOh14GiXlpH_lGhA-QuJ4PgAcl2Iyf43SpomCV5aq79J0QrTr786Av4pUxsMMw_Fgk1FK7NFntVjs6yNzwDdVERTQdsgyzjU3jJllKdrXHDX6xNbdnsFQXtcJiBFJsccsurTtRzHMSjBGa96-Rs7DXWJwrMJXP5bqGMtuBOmSXTZO9IgTH7RrORYeImd8qL_s5MWCeg3VDweyXcSiVT8xtfY6Ra1YwcJW-GuKNRYQN2Abl3281oVS9GYvOOYRUoSkHM1ujDzQjiSpn20GFMup_P9hOG04arDimDUgdCqBo27c74cD3yJsW7zE6h4LHIi7tUYiELn_8drVYwn_LIPEZG4CQ-QhV1QItUVB0ght9EVtafyXDdR4P033SZOBgfyYTXhLQfu2HN4giffn0laW9ETqfeM_A0tJj0GrD71yq0XSHUzXmAO7zkXYNxTEhJpDRB6Zf-gdoYqs4k7_xoCqn4VXbp_WihdEU4dLWAm-yDSxev3ZiBDuPZgF6cUpkZxkk-m3qLC_mdq5FiMeiPBZoRVsNcJ7Q8Rljd4gmZFAMSqMt2WIxE80P7gYVg_bmVzXgRt_0l_AoaPUAjhBthY4YmMbuDzrmTuANJ1cKSqqDCwLWJruhvdmWT0jtPWjBS6EN7wOGiUbAUffLAVyTTnRkrOMB8GLuNvHqkEAt2guPm4q-qfI5UcSv6yNJOhkwQouhLZgwOrmb7GFQZHXgQxHoDtUR9wFfxMQbHMH3YJW63kZGWsPhvfMRbNKfmqp7U7V7bNtw=s64",
      "userId": "01347584962082294341"
     },
     "user_tz": -60
    },
    "id": "kLbVGn6ZY_Z8"
   },
   "outputs": [],
   "source": [
    "n_x = 1000\n",
    "xlin = np.linspace(xlim[0],xlim[1],n_x)\n",
    "xx = xlin.reshape(-1,1).astype(np.float32)\n",
    "leading_coefs = np.array(leading_coefs)\n",
    "coef = (np.hstack([leading_coefs,np.zeros(n-leading_coefs.shape[0])])*np.ones([n_x,n])).astype(np.float32)\n",
    "yy = sess.run(net.evaluate(np.hstack([xx,coef])))"
   ]
  },
  {
   "cell_type": "code",
   "execution_count": 30,
   "metadata": {
    "colab": {
     "base_uri": "https://localhost:8080/",
     "height": 279
    },
    "executionInfo": {
     "elapsed": 74865,
     "status": "ok",
     "timestamp": 1618663876784,
     "user": {
      "displayName": "Tony Shardlow",
      "photoUrl": "https://lh3.googleusercontent.com/a-/AOh14GiXlpH_lGhA-QuJ4PgAcl2Iyf43SpomCV5aq79J0QrTr786Av4pUxsMMw_Fgk1FK7NFntVjs6yNzwDdVERTQdsgyzjU3jJllKdrXHDX6xNbdnsFQXtcJiBFJsccsurTtRzHMSjBGa96-Rs7DXWJwrMJXP5bqGMtuBOmSXTZO9IgTH7RrORYeImd8qL_s5MWCeg3VDweyXcSiVT8xtfY6Ra1YwcJW-GuKNRYQN2Abl3281oVS9GYvOOYRUoSkHM1ujDzQjiSpn20GFMup_P9hOG04arDimDUgdCqBo27c74cD3yJsW7zE6h4LHIi7tUYiELn_8drVYwn_LIPEZG4CQ-QhV1QItUVB0ght9EVtafyXDdR4P033SZOBgfyYTXhLQfu2HN4giffn0laW9ETqfeM_A0tJj0GrD71yq0XSHUzXmAO7zkXYNxTEhJpDRB6Zf-gdoYqs4k7_xoCqn4VXbp_WihdEU4dLWAm-yDSxev3ZiBDuPZgF6cUpkZxkk-m3qLC_mdq5FiMeiPBZoRVsNcJ7Q8Rljd4gmZFAMSqMt2WIxE80P7gYVg_bmVzXgRt_0l_AoaPUAjhBthY4YmMbuDzrmTuANJ1cKSqqDCwLWJruhvdmWT0jtPWjBS6EN7wOGiUbAUffLAVyTTnRkrOMB8GLuNvHqkEAt2guPm4q-qfI5UcSv6yNJOhkwQouhLZgwOrmb7GFQZHXgQxHoDtUR9wFfxMQbHMH3YJW63kZGWsPhvfMRbNKfmqp7U7V7bNtw=s64",
      "userId": "01347584962082294341"
     },
     "user_tz": -60
    },
    "id": "lTjN5BkzY_Z8",
    "outputId": "104d9167-2e01-44a6-d86b-7f87f249494e"
   },
   "outputs": [
    {
     "data": {
      "image/png": "[encoded data removed]",
      "text/plain": [
       "<Figure size 432x288 with 1 Axes>"
      ]
     },
     "metadata": {
      "needs_background": "light",
      "tags": []
     },
     "output_type": "display_data"
    }
   ],
   "source": [
    "fig = plt.figure()\n",
    "plt.plot(xx,yy)\n",
    "plt.xlabel(r\"$x$\")\n",
    "plt.ylabel(r\"$u(x)$\")\n",
    "plt.show()"
   ]
  },
  {
   "cell_type": "code",
   "execution_count": 33,
   "metadata": {
    "colab": {
     "base_uri": "https://localhost:8080/",
     "height": 35
    },
    "executionInfo": {
     "elapsed": 1538,
     "status": "ok",
     "timestamp": 1618664317386,
     "user": {
      "displayName": "Tony Shardlow",
      "photoUrl": "https://lh3.googleusercontent.com/a-/AOh14GiXlpH_lGhA-QuJ4PgAcl2Iyf43SpomCV5aq79J0QrTr786Av4pUxsMMw_Fgk1FK7NFntVjs6yNzwDdVERTQdsgyzjU3jJllKdrXHDX6xNbdnsFQXtcJiBFJsccsurTtRzHMSjBGa96-Rs7DXWJwrMJXP5bqGMtuBOmSXTZO9IgTH7RrORYeImd8qL_s5MWCeg3VDweyXcSiVT8xtfY6Ra1YwcJW-GuKNRYQN2Abl3281oVS9GYvOOYRUoSkHM1ujDzQjiSpn20GFMup_P9hOG04arDimDUgdCqBo27c74cD3yJsW7zE6h4LHIi7tUYiELn_8drVYwn_LIPEZG4CQ-QhV1QItUVB0ght9EVtafyXDdR4P033SZOBgfyYTXhLQfu2HN4giffn0laW9ETqfeM_A0tJj0GrD71yq0XSHUzXmAO7zkXYNxTEhJpDRB6Zf-gdoYqs4k7_xoCqn4VXbp_WihdEU4dLWAm-yDSxev3ZiBDuPZgF6cUpkZxkk-m3qLC_mdq5FiMeiPBZoRVsNcJ7Q8Rljd4gmZFAMSqMt2WIxE80P7gYVg_bmVzXgRt_0l_AoaPUAjhBthY4YmMbuDzrmTuANJ1cKSqqDCwLWJruhvdmWT0jtPWjBS6EN7wOGiUbAUffLAVyTTnRkrOMB8GLuNvHqkEAt2guPm4q-qfI5UcSv6yNJOhkwQouhLZgwOrmb7GFQZHXgQxHoDtUR9wFfxMQbHMH3YJW63kZGWsPhvfMRbNKfmqp7U7V7bNtw=s64",
      "userId": "01347584962082294341"
     },
     "user_tz": -60
    },
    "id": "LPkrK7D3iDJb",
    "outputId": "f2a43367-e543-4aba-e0fa-4790095360a9"
   },
   "outputs": [
    {
     "data": {
      "application/vnd.google.colaboratory.intrinsic+json": {
       "type": "string"
      },
      "text/plain": [
       "'/content/drive/MyDrive/Colab Notebooks/deep_surrogate/Biot/my-test-model'"
      ]
     },
     "execution_count": 33,
     "metadata": {
      "tags": []
     },
     "output_type": "execute_result"
    }
   ],
   "source": [
    "saver = tf.train.Saver()\n",
    "sess = tf.Session()\n",
    "sess.run(tf.global_variables_initializer())\n",
    "saver.save(sess, '/content/drive/MyDrive/Colab Notebooks/deep_surrogate/Biot/my-test-model')"
   ]
  }
 ],
 "metadata": {
  "colab": {
   "collapsed_sections": [],
   "name": "biot.ipynb",
   "provenance": []
  },
  "kernelspec": {
   "display_name": "Python 3",
   "language": "python",
   "name": "python3"
  },
  "language_info": {
   "codemirror_mode": {
    "name": "ipython",
    "version": 3
   },
   "file_extension": ".py",
   "mimetype": "text/x-python",
   "name": "python",
   "nbconvert_exporter": "python",
   "pygments_lexer": "ipython3",
   "version": "3.7.9"
  }
 },
 "nbformat": 4,
 "nbformat_minor": 1
}
